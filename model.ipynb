{
 "cells": [
  {
   "cell_type": "code",
   "execution_count": 5,
   "metadata": {},
   "outputs": [
    {
     "name": "stderr",
     "output_type": "stream",
     "text": [
      "Using TensorFlow backend.\n"
     ]
    }
   ],
   "source": [
    "#   useful modules\n",
    "import csv\n",
    "import cv2\n",
    "import numpy as np\n",
    "import matplotlib.pyplot as plt\n",
    "from sklearn.utils import shuffle\n",
    "from sklearn.model_selection import train_test_split\n",
    "from keras.models import Sequential\n",
    "from keras.layers import Flatten,Dense,Lambda,Dropout\n",
    "from keras.layers.convolutional import Convolution2D,Cropping2D, MaxPooling2D\n",
    "from keras.callbacks import ModelCheckpoint"
   ]
  },
  {
   "cell_type": "code",
   "execution_count": 6,
   "metadata": {},
   "outputs": [
    {
     "name": "stdout",
     "output_type": "stream",
     "text": [
      "Shape of read images dataset (8036, 7)\n"
     ]
    }
   ],
   "source": [
    "#   read in the csv file and save the data inside variable lines;\n",
    "lines = []\n",
    "file_dic = \"./data/\"\n",
    "with open(file_dic + \"driving_log.csv\") as csvfile:\n",
    "    reader = csv.reader(csvfile)\n",
    "    for line in reader:\n",
    "        lines.append(line)\n",
    "print(\"Shape of read images dataset\", np.shape(lines))"
   ]
  },
  {
   "cell_type": "code",
   "execution_count": 7,
   "metadata": {},
   "outputs": [
    {
     "name": "stdout",
     "output_type": "stream",
     "text": [
      "Shape of read non-redundant images dataset (2008, 7)\n"
     ]
    }
   ],
   "source": [
    "angles = []\n",
    "samples = []\n",
    "center_counter = 0\n",
    "for sample in lines:\n",
    "    center_value = float(sample[3])\n",
    "    if center_value > 0.01 and center_value < -0.01:\n",
    "        angles.append(center_value)\n",
    "        samples.append(sample)\n",
    "    if center_value <= 0.01 or center_value >= 0.01:\n",
    "        if center_counter >= 4:\n",
    "            angles.append(center_value)\n",
    "            samples.append(sample)\n",
    "            center_counter = 0\n",
    "        center_counter += 1\n",
    "\n",
    "print(\"Shape of read non-redundant images dataset\", np.shape(samples))"
   ]
  },
  {
   "cell_type": "code",
   "execution_count": 8,
   "metadata": {},
   "outputs": [
    {
     "name": "stdout",
     "output_type": "stream",
     "text": [
      "images (2, 80, 160, 3)\n",
      "images (4, 80, 160, 3)\n",
      "images (6, 80, 160, 3)\n",
      "yaws (6,)\n",
      "[-0.05975719, 0.05975719, 0.14024281, -0.14024281, -0.25975719, 0.25975719]\n",
      "(6, 80, 160, 3)\n",
      "(6,)\n"
     ]
    }
   ],
   "source": [
    "correction = 0.2\n",
    "batch_size = 32\n",
    "counter = 0\n",
    "\n",
    "images = []\n",
    "yaws = []\n",
    "\n",
    "for i in range(3):\n",
    "    image_path = lines[102][i]\n",
    "    image_path = image_path.split('/')[-1]\n",
    "    image_path = \"./data/IMG/\" + image_path\n",
    "    \n",
    "    image = cv2.imread(image_path)\n",
    "    image = cv2.cvtColor(image,cv2.COLOR_BGR2RGB)\n",
    "    image = cv2.resize(image,(160,80))\n",
    "    images.append(image)\n",
    "    images.append(cv2.flip(image, 1))\n",
    "    \n",
    "    print(\"images\", np.shape(images)) \n",
    "                \n",
    "yaw = float(lines[102][3])\n",
    "yaws.append(yaw)\n",
    "yaws.append(-1.0 * yaw)\n",
    "yaws.append(yaw + correction)\n",
    "yaws.append(-1.0 * (yaw + correction))\n",
    "yaws.append(yaw - correction)\n",
    "yaws.append(-1.0 * (yaw - correction))\n",
    "print(\"yaws\",np.shape(yaws))\n",
    "print(yaws)\n",
    "\n",
    "X_train = np.array(images)\n",
    "y_train = np.array(yaws)\n",
    "\n",
    "print(np.shape(X_train))\n",
    "print(np.shape(y_train))"
   ]
  },
  {
   "cell_type": "code",
   "execution_count": 9,
   "metadata": {},
   "outputs": [],
   "source": [
    "train_samples, validation_samples = train_test_split(samples, test_size=0.2)"
   ]
  },
  {
   "cell_type": "code",
   "execution_count": 33,
   "metadata": {
    "collapsed": true
   },
   "outputs": [],
   "source": [
    "\n",
    "def generator(samples, batch_size=32):\n",
    "    correction = 0.2\n",
    "    sample_count = len(samples)\n",
    "    while True:\n",
    "        shuffle(samples)\n",
    "        for offset in range(0, sample_count, batch_size):\n",
    "            batch_samples = samples[offset:offset + batch_size]\n",
    "            images  = []\n",
    "            yaws = []\n",
    "            X_train = []\n",
    "            for batch_sample in batch_samples:\n",
    "                for i in range(3):\n",
    "                    image_addr = batch_sample[i]\n",
    "                    image_path = image_addr.split('/')[-1]\n",
    "                    image_path = \"./data/IMG/\" + image_path\n",
    "                    image = cv2.imread(image_path)\n",
    "                    image = cv2.cvtColor(image,cv2.COLOR_BGR2RGB)\n",
    "                    image = cv2.resize(image,(160,80))\n",
    "                    images.append(image)\n",
    "                    images.append(cv2.flip(image, 1))\n",
    "        \n",
    "                yaw = float(batch_sample[3])\n",
    "                yaws.append(yaw)\n",
    "                yaws.append(-1.0 * yaw)\n",
    "                yaws.append(yaw + correction)\n",
    "                yaws.append(-1.0 * (yaw + correction))\n",
    "                yaws.append(yaw - correction)\n",
    "                yaws.append(-1.0 * (yaw - correction))\n",
    "\n",
    "            X_train = np.array(images)\n",
    "            y_train = np.array(yaws)\n",
    "            yield sklearn.utils.shuffle(X_train, y_train)\n",
    "        "
   ]
  },
  {
   "cell_type": "code",
   "execution_count": 34,
   "metadata": {},
   "outputs": [],
   "source": [
    "train_generator = generator(train_samples, batch_size=32)\n",
    "validation_generator = generator(validation_samples, batch_size=32)"
   ]
  },
  {
   "cell_type": "code",
   "execution_count": 35,
   "metadata": {
    "collapsed": true
   },
   "outputs": [],
   "source": [
    "model = Sequential()\n",
    "\n",
    "row,col,ch = 80,160,3\n",
    "\n",
    "\n",
    "# Create NVIDIA Dave2 covnet with keras\n",
    "# Normalize\n",
    "model.add(Lambda(lambda x: x/255 - 0.5,input_shape=(row, col, ch)))\n",
    "model.add(Cropping2D(cropping=((35,10),(5,5))))\n",
    "#model.add(Cropping2D(cropping=((70,20),(10,10))))\n",
    "# Add 3 * 3x3 convolution layers (output depth 16, 32, and 64), each with ReLU and 2x2 maxpooling layer.\n",
    "model.add(Convolution2D(16, 3, 3, activation='relu'))\n",
    "model.add(MaxPooling2D(pool_size=(2, 2)))\n",
    "model.add(Convolution2D(32, 3, 3, activation='relu'))\n",
    "model.add(MaxPooling2D(pool_size=(2, 2)))\n",
    "model.add(Convolution2D(64, 3, 3, activation='relu'))\n",
    "model.add(MaxPooling2D(pool_size=(2, 2)))\n",
    "# Add a flatten layer\n",
    "model.add(Flatten())\n",
    "# 4 Fully connected layers of 400, 100, 20 and 1\n",
    "model.add(Dense(400, activation='relu'))\n",
    "model.add(Dense(100, activation='relu'))\n",
    "model.add(Dense(20, activation='relu'))\n",
    "model.add(Dense(1))\n",
    "# Train Covnet\n",
    "model.compile(loss='mse', optimizer='adam')\n"
   ]
  },
  {
   "cell_type": "code",
   "execution_count": 36,
   "metadata": {
    "collapsed": true
   },
   "outputs": [],
   "source": [
    "num_epochs = 2\n",
    "total_train_samples = len(train_samples)\n",
    "total_validation_samples = len(validation_samples)"
   ]
  },
  {
   "cell_type": "code",
   "execution_count": 37,
   "metadata": {},
   "outputs": [
    {
     "name": "stdout",
     "output_type": "stream",
     "text": [
      "Epoch 1/2\n"
     ]
    },
    {
     "name": "stderr",
     "output_type": "stream",
     "text": [
      "Exception in thread Thread-7:\n",
      "Traceback (most recent call last):\n",
      "  File \"/Users/honghuxu/miniconda3/envs/carnd-term1/lib/python3.5/threading.py\", line 914, in _bootstrap_inner\n",
      "    self.run()\n",
      "  File \"/Users/honghuxu/miniconda3/envs/carnd-term1/lib/python3.5/threading.py\", line 862, in run\n",
      "    self._target(*self._args, **self._kwargs)\n",
      "  File \"/Users/honghuxu/miniconda3/envs/carnd-term1/lib/python3.5/site-packages/keras/engine/training.py\", line 429, in data_generator_task\n",
      "    generator_output = next(self._generator)\n",
      "  File \"<ipython-input-33-d0898f4b0946>\", line 34, in generator\n",
      "    yield sklearn.utils.shuffle(X_train, y_train)\n",
      "NameError: name 'sklearn' is not defined\n",
      "\n"
     ]
    },
    {
     "ename": "ValueError",
     "evalue": "output of generator should be a tuple (x, y, sample_weight) or (x, y). Found: None",
     "output_type": "error",
     "traceback": [
      "\u001b[0;31m---------------------------------------------------------------------------\u001b[0m",
      "\u001b[0;31mValueError\u001b[0m                                Traceback (most recent call last)",
      "\u001b[0;32m<ipython-input-37-a7663413a4fb>\u001b[0m in \u001b[0;36m<module>\u001b[0;34m()\u001b[0m\n\u001b[1;32m     12\u001b[0m \u001b[0;34m\u001b[0m\u001b[0m\n\u001b[1;32m     13\u001b[0m model.fit_generator(train_generator, samples_per_epoch=20480, \n\u001b[0;32m---> 14\u001b[0;31m                     nb_epoch=2,validation_data=validation_generator, nb_val_samples=total_validation_samples)\n\u001b[0m\u001b[1;32m     15\u001b[0m \u001b[0;34m\u001b[0m\u001b[0m\n\u001b[1;32m     16\u001b[0m \u001b[0;31m# Plot cost history\u001b[0m\u001b[0;34m\u001b[0m\u001b[0;34m\u001b[0m\u001b[0m\n",
      "\u001b[0;32m~/miniconda3/envs/carnd-term1/lib/python3.5/site-packages/keras/models.py\u001b[0m in \u001b[0;36mfit_generator\u001b[0;34m(self, generator, samples_per_epoch, nb_epoch, verbose, callbacks, validation_data, nb_val_samples, class_weight, max_q_size, nb_worker, pickle_safe, initial_epoch, **kwargs)\u001b[0m\n\u001b[1;32m    933\u001b[0m                                         \u001b[0mnb_worker\u001b[0m\u001b[0;34m=\u001b[0m\u001b[0mnb_worker\u001b[0m\u001b[0;34m,\u001b[0m\u001b[0;34m\u001b[0m\u001b[0m\n\u001b[1;32m    934\u001b[0m                                         \u001b[0mpickle_safe\u001b[0m\u001b[0;34m=\u001b[0m\u001b[0mpickle_safe\u001b[0m\u001b[0;34m,\u001b[0m\u001b[0;34m\u001b[0m\u001b[0m\n\u001b[0;32m--> 935\u001b[0;31m                                         initial_epoch=initial_epoch)\n\u001b[0m\u001b[1;32m    936\u001b[0m \u001b[0;34m\u001b[0m\u001b[0m\n\u001b[1;32m    937\u001b[0m     def evaluate_generator(self, generator, val_samples,\n",
      "\u001b[0;32m~/miniconda3/envs/carnd-term1/lib/python3.5/site-packages/keras/engine/training.py\u001b[0m in \u001b[0;36mfit_generator\u001b[0;34m(self, generator, samples_per_epoch, nb_epoch, verbose, callbacks, validation_data, nb_val_samples, class_weight, max_q_size, nb_worker, pickle_safe, initial_epoch)\u001b[0m\n\u001b[1;32m   1526\u001b[0m                                          \u001b[0;34m'(x, y, sample_weight) '\u001b[0m\u001b[0;34m\u001b[0m\u001b[0m\n\u001b[1;32m   1527\u001b[0m                                          \u001b[0;34m'or (x, y). Found: '\u001b[0m \u001b[0;34m+\u001b[0m\u001b[0;34m\u001b[0m\u001b[0m\n\u001b[0;32m-> 1528\u001b[0;31m                                          str(generator_output))\n\u001b[0m\u001b[1;32m   1529\u001b[0m                     \u001b[0;32mif\u001b[0m \u001b[0mlen\u001b[0m\u001b[0;34m(\u001b[0m\u001b[0mgenerator_output\u001b[0m\u001b[0;34m)\u001b[0m \u001b[0;34m==\u001b[0m \u001b[0;36m2\u001b[0m\u001b[0;34m:\u001b[0m\u001b[0;34m\u001b[0m\u001b[0m\n\u001b[1;32m   1530\u001b[0m                         \u001b[0mx\u001b[0m\u001b[0;34m,\u001b[0m \u001b[0my\u001b[0m \u001b[0;34m=\u001b[0m \u001b[0mgenerator_output\u001b[0m\u001b[0;34m\u001b[0m\u001b[0m\n",
      "\u001b[0;31mValueError\u001b[0m: output of generator should be a tuple (x, y, sample_weight) or (x, y). Found: None"
     ]
    }
   ],
   "source": [
    "# fit_history = model.fit_generator(train_generator, \n",
    "#                                   steps_per_epoch=int(total_train_samples / 32), \n",
    "#                                   validation_data=validation_generator,\n",
    "#                                   validation_steps=int(total_validation_samples / 32), samples_per_epoch = 32,\n",
    "#                                   nb_epoch = \n",
    "#                                   epochs=num_epochs, verbose=1)\n",
    "\n",
    "# model.fit_generator(generator(samples,batch_size=32),\n",
    "#                                         verbose=1,validation_data=validation_generator,\n",
    "#                                           samples_per_epoch = int(total_train_samples /32),nb_epoch = 2\n",
    "#                                          ,nb_val_samples= total_validation_samples/32)\n",
    "\n",
    "model.fit_generator(train_generator, samples_per_epoch=20480, \n",
    "                    nb_epoch=2,validation_data=validation_generator, nb_val_samples=total_validation_samples)\n",
    "\n",
    "# Plot cost history\n",
    "# plt.plot(fit_history.history['loss'])\n",
    "# plt.plot(fit_history.history['val_loss'])\n",
    "# plt.title('model mean squared error loss')\n",
    "# plt.ylabel('mean squared error loss')\n",
    "# plt.xlabel('epoch')\n",
    "# plt.legend(['training set', 'validation set'], loc='upper right')\n",
    "# plt.show()\n",
    "\n",
    "# model.fit_generator(train_data_generator, samples_per_epoch=32, nb_epoch=2,validation_data=validation_samples, \n",
    "# nb_val_samples=val_size)\n",
    "# model.fit(X_train,y_train,validation_split = 0.2,shuffle = True,nb_epoch = 2)\n",
    "model.save('model.h5')\n",
    "\n",
    "print('Trained model saved...')\n"
   ]
  },
  {
   "cell_type": "code",
   "execution_count": null,
   "metadata": {
    "collapsed": true
   },
   "outputs": [],
   "source": []
  }
 ],
 "metadata": {
  "kernelspec": {
   "display_name": "Python [conda env:carnd-term1]",
   "language": "python",
   "name": "conda-env-carnd-term1-py"
  },
  "language_info": {
   "codemirror_mode": {
    "name": "ipython",
    "version": 3
   },
   "file_extension": ".py",
   "mimetype": "text/x-python",
   "name": "python",
   "nbconvert_exporter": "python",
   "pygments_lexer": "ipython3",
   "version": "3.5.2"
  },
  "widgets": {
   "state": {},
   "version": "1.1.2"
  }
 },
 "nbformat": 4,
 "nbformat_minor": 2
}
